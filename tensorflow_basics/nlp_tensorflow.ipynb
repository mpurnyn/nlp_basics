{
 "cells": [
  {
   "cell_type": "markdown",
   "metadata": {},
   "source": [
    "NLP is Natural Language Processing.\n",
    "It is a method of understanding text.\n",
    "\n",
    "#### Word based encodings\n",
    "\n",
    "Letters can be encoded with ASCII, but trying to make sense of the encoding can be quiet difficult because letters dont have as much meaning as words in a sentence\n",
    "\n",
    "So lets try creating word based encodings and passing that to a Neural Network."
   ]
  },
  {
   "cell_type": "code",
   "execution_count": 1,
   "metadata": {},
   "outputs": [
    {
     "name": "stdout",
     "output_type": "stream",
     "text": [
      "{'i': 1, 'love': 2, 'my': 3, 'dog': 4, 'cat': 5}\n"
     ]
    }
   ],
   "source": [
    "import tensorflow as tf\n",
    "from tensorflow import keras\n",
    "from tensorflow.keras.preprocessing.text import Tokenizer\n",
    "\n",
    "sentences = [\"I love my dog\", \"I love my cat\"]\n",
    "\n",
    "tk = Tokenizer(num_words=100)\n",
    "tk.fit_on_texts(sentences)\n",
    "widx = tk.word_index\n",
    "print(widx)"
   ]
  }
 ],
 "metadata": {
  "interpreter": {
   "hash": "33cd822c57ff6bb37babb058289896aa3fa85c236acdda9cd4396890871775c9"
  },
  "kernelspec": {
   "display_name": "Python 3.10.5 64-bit",
   "language": "python",
   "name": "python3"
  },
  "language_info": {
   "codemirror_mode": {
    "name": "ipython",
    "version": 3
   },
   "file_extension": ".py",
   "mimetype": "text/x-python",
   "name": "python",
   "nbconvert_exporter": "python",
   "pygments_lexer": "ipython3",
   "version": "3.10.5"
  },
  "orig_nbformat": 4
 },
 "nbformat": 4,
 "nbformat_minor": 2
}
