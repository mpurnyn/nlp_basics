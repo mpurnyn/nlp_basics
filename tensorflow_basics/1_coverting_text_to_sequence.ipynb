{
 "cells": [
  {
   "cell_type": "markdown",
   "metadata": {},
   "source": [
    "# What are sequences?\n",
    "\n",
    "Sequences are sentences coverted to tokens.\n",
    "To covert words into input a NN can recognize:\n",
    "- turn sentences into sequence of tokens.\n",
    "- make sequences the same length"
   ]
  },
  {
   "cell_type": "code",
   "execution_count": 14,
   "metadata": {},
   "outputs": [
    {
     "name": "stdout",
     "output_type": "stream",
     "text": [
      "[[4, 2, 1, 3], [4, 2, 1, 6], [5, 2, 1, 3], [7, 5, 8, 1, 3, 9, 10]]\n",
      "[[4, 2, 1, 3], [1, 3, 1]]\n",
      "{'my': 1, 'love': 2, 'dog': 3, 'i': 4, 'you': 5, 'cat': 6, 'do': 7, 'think': 8, 'is': 9, 'amazing': 10}\n"
     ]
    }
   ],
   "source": [
    "import tensorflow as tf\n",
    "from tensorflow import keras\n",
    "from tensorflow.keras.preprocessing.text import Tokenizer\n",
    "\n",
    "#some random sentences \n",
    "sentences = [\"I love my dog\", \"I love my cat\", \"You love my dog!\", \"Do you think my dog is amazing?\"] \n",
    "\n",
    "tk = Tokenizer(num_words = 100)\n",
    "# tk.oov_token = \"<OOV>\"\n",
    "tk.fit_on_texts(sentences)\n",
    "\n",
    "## generate the sequences\n",
    "seqs = tk.texts_to_sequences(sentences)\n",
    "print(seqs)\n",
    "\n",
    "# test tokenizer\n",
    "test_data = [\"I really love my dog\", \"my dog loves my manatee\"]\n",
    "\n",
    "test_seqs = tk.texts_to_sequences(test_data)\n",
    "print(test_seqs)\n",
    "print(tk.word_index)"
   ]
  },
  {
   "cell_type": "markdown",
   "metadata": {},
   "source": [
    "## What should we do with a unknown words?\n",
    "\n",
    "From the test we can see\n",
    "- for more vocabulary we need more training data\n",
    "- mark new unknown words instead of ignoring them"
   ]
  },
  {
   "cell_type": "code",
   "execution_count": 16,
   "metadata": {},
   "outputs": [
    {
     "name": "stdout",
     "output_type": "stream",
     "text": [
      "[[5, 1, 3, 2, 4], [2, 4, 1, 2, 1]]\n",
      "{'<OOV>': 1, 'my': 2, 'love': 3, 'dog': 4, 'i': 5, 'you': 6, 'cat': 7, 'do': 8, 'think': 9, 'is': 10, 'amazing': 11}\n"
     ]
    }
   ],
   "source": [
    "tk.oov_token = \"<OOV>\" #unkown words should be marked <OOV>\n",
    "tk.fit_on_texts(sentences)\n",
    "\n",
    "test_seqs = tk.texts_to_sequences(test_data)\n",
    "print(test_seqs)\n",
    "print(tk.word_index)"
   ]
  }
 ],
 "metadata": {
  "kernelspec": {
   "display_name": "Python 3.10.5 64-bit",
   "language": "python",
   "name": "python3"
  },
  "language_info": {
   "codemirror_mode": {
    "name": "ipython",
    "version": 3
   },
   "file_extension": ".py",
   "mimetype": "text/x-python",
   "name": "python",
   "nbconvert_exporter": "python",
   "pygments_lexer": "ipython3",
   "version": "3.10.5"
  },
  "orig_nbformat": 4,
  "vscode": {
   "interpreter": {
    "hash": "33cd822c57ff6bb37babb058289896aa3fa85c236acdda9cd4396890871775c9"
   }
  }
 },
 "nbformat": 4,
 "nbformat_minor": 2
}
