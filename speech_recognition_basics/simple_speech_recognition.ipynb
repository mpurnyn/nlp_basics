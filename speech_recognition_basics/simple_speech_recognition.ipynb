{
 "cells": [
  {
   "cell_type": "markdown",
   "metadata": {},
   "source": [
    "Import some modules and add you key.\n",
    "the key is stored in another file that is of this format\n",
    "API_KEY_ASSEMBLYAI = 'key1'"
   ]
  },
  {
   "cell_type": "code",
   "execution_count": 1,
   "metadata": {},
   "outputs": [],
   "source": [
    "import requests\n",
    "import time\n",
    "from api_secrets import API_KEY_ASSEMBLYAI"
   ]
  },
  {
   "cell_type": "markdown",
   "metadata": {},
   "source": [
    "Add the endpoints and header data for the requests"
   ]
  },
  {
   "cell_type": "code",
   "execution_count": 2,
   "metadata": {},
   "outputs": [],
   "source": [
    "upload_endpoint = 'https://api.assemblyai.com/v2/upload'\n",
    "transcript_endpoint = 'https://api.assemblyai.com/v2/transcript'\n",
    "\n",
    "headers_auth_only = {'authorization': API_KEY_ASSEMBLYAI}\n",
    "\n",
    "headers = {\n",
    "    \"authorization\": API_KEY_ASSEMBLYAI,\n",
    "    \"content-type\": \"application/json\"\n",
    "}\n",
    "\n",
    "CHUNK_SIZE = 5_242_880  # 5MB\n"
   ]
  },
  {
   "cell_type": "markdown",
   "metadata": {},
   "source": [
    "upload a file to assembly ai and return a url"
   ]
  },
  {
   "cell_type": "code",
   "execution_count": 3,
   "metadata": {},
   "outputs": [],
   "source": [
    "def upload(filename):\n",
    "    def read_file(filename):\n",
    "        with open(filename, 'rb') as f:\n",
    "            while True:\n",
    "                data = f.read(CHUNK_SIZE)\n",
    "                if not data:\n",
    "                    break\n",
    "                yield data\n",
    "\n",
    "    upload_response = requests.post(upload_endpoint, headers=headers_auth_only, data=read_file(filename))\n",
    "    return upload_response.json()['upload_url']\n"
   ]
  },
  {
   "cell_type": "markdown",
   "metadata": {},
   "source": [
    "use the url and make a request to transcribe it"
   ]
  },
  {
   "cell_type": "code",
   "execution_count": 4,
   "metadata": {},
   "outputs": [],
   "source": [
    "def transcribe(audio_url):\n",
    "    transcript_request = {\n",
    "        'audio_url': audio_url\n",
    "    }\n",
    "\n",
    "    transcript_response = requests.post(transcript_endpoint, json=transcript_request, headers=headers)\n",
    "    return transcript_response.json()['id']"
   ]
  },
  {
   "cell_type": "markdown",
   "metadata": {},
   "source": [
    "use the id to get the url to poll from Assembly AI\n",
    "\n",
    "returns a url to the polling url"
   ]
  },
  {
   "cell_type": "code",
   "execution_count": 5,
   "metadata": {},
   "outputs": [],
   "source": [
    "def poll(transcript_id):\n",
    "    polling_endpoint = transcript_endpoint + '/' + transcript_id\n",
    "    polling_response = requests.get(polling_endpoint, headers=headers)\n",
    "    return polling_response.json()"
   ]
  },
  {
   "cell_type": "markdown",
   "metadata": {},
   "source": [
    "use the polling reponse url and poll until the transcription is completed"
   ]
  },
  {
   "cell_type": "code",
   "execution_count": 6,
   "metadata": {},
   "outputs": [],
   "source": [
    "def get_transcription_result_url(url):\n",
    "    transcribe_id = transcribe(url)\n",
    "    while True:\n",
    "        data = poll(transcribe_id)\n",
    "        if data['status'] == 'completed':\n",
    "            return data, None\n",
    "        elif data['status'] == 'error':\n",
    "            return data, data['error']\n",
    "            \n",
    "        print(\"waiting for 30 seconds\")\n",
    "        time.sleep(30)"
   ]
  },
  {
   "cell_type": "markdown",
   "metadata": {},
   "source": [
    "use the transcription function and save the data"
   ]
  },
  {
   "cell_type": "code",
   "execution_count": 7,
   "metadata": {},
   "outputs": [],
   "source": [
    "def save_transcript(url, title):\n",
    "    data, error = get_transcription_result_url(url)\n",
    "    \n",
    "    if data:\n",
    "        filename = title + '.txt'\n",
    "        with open(filename, 'w') as f:\n",
    "            f.write(data['text'])\n",
    "        print('Transcript saved')\n",
    "    elif error:\n",
    "        print(\"Error!!!\", error)"
   ]
  },
  {
   "cell_type": "markdown",
   "metadata": {},
   "source": [
    "put it all together"
   ]
  },
  {
   "cell_type": "code",
   "execution_count": 9,
   "metadata": {},
   "outputs": [
    {
     "name": "stdout",
     "output_type": "stream",
     "text": [
      "waiting for 30 seconds\n",
      "Transcript saved\n"
     ]
    }
   ],
   "source": [
    "filename = \"test.mp4\"\n",
    "audio_url = upload(filename)\n",
    "\n",
    "save_transcript(audio_url, 'file_title')"
   ]
  }
 ],
 "metadata": {
  "kernelspec": {
   "display_name": "Python 3.10.5 64-bit",
   "language": "python",
   "name": "python3"
  },
  "language_info": {
   "codemirror_mode": {
    "name": "ipython",
    "version": 3
   },
   "file_extension": ".py",
   "mimetype": "text/x-python",
   "name": "python",
   "nbconvert_exporter": "python",
   "pygments_lexer": "ipython3",
   "version": "3.10.5"
  },
  "orig_nbformat": 4,
  "vscode": {
   "interpreter": {
    "hash": "33cd822c57ff6bb37babb058289896aa3fa85c236acdda9cd4396890871775c9"
   }
  }
 },
 "nbformat": 4,
 "nbformat_minor": 2
}
